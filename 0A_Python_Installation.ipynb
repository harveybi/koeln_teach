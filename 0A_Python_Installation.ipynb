{
 "cells": [
  {
   "cell_type": "markdown",
   "metadata": {},
   "source": [
    "# Python Installation"
   ]
  },
  {
   "cell_type": "markdown",
   "metadata": {},
   "source": [
    "A walkthrough to install Python. If you already have Python on your machine and feel confident in your installation, you can go ahead and skip this notebook.\n",
    "\n",
    "For the purposes of this tutorial, I'm recommending using Anaconda as your Python distribution and for managing your environments."
   ]
  },
  {
   "cell_type": "markdown",
   "metadata": {},
   "source": [
    "### Install Anaconda\n",
    "Download and install Anaconda. A more detailed version of the below steps specifically for Windows (macOS and Linux instructions are similar) can be found [here](https://www.datacamp.com/community/tutorials/installing-anaconda-windows) if you need additional assistance.\n",
    "\n",
    "1. Go to the [Anaconda install page](https://www.anaconda.com/distribution/) and click on the installer matching your operating system (e.g. Windows, macOS, Linux) and system architecture (likely 64-bit X86).\n",
    "    \n",
    "2. Open the installer from your downloads folder and run it by double clicking on it. \n",
    "    \n",
    "3. Follow the installer's instructions. \n",
    "    \n",
    "*Note: there is an option at one point to add Anaconda to PATH. While the installer recommends against this option (it's possible it may interfere with your other software), we typically recommend doing so, as it makes accessing Anaconda commands easier. The rest of this tutorial assumes that this option has been selected.*"
   ]
  },
  {
   "cell_type": "markdown",
   "metadata": {},
   "source": [
    "### Set-up a conda environment\n",
    "\n",
    "1. Open a Command Prompt (Windows) or a terminal (macOS or Linux)\n",
    "\n",
    "    *Note: If you chose not to add Anaconda to PATH during Anaconda installation above, you will need to use the Anaconda Command Prompt instead.*\n",
    "2. Create a conda environment for PyTorch:\n",
    "    ```Shell\n",
    "    conda create -n koeln_teach python=3.8\n",
    "    ```\n",
    "    <br/>\n",
    "3. Activate your new environment:\n",
    "    ```Shell \n",
    "    conda activate koeln_teach\n",
    "    ```"
   ]
  },
  {
   "cell_type": "markdown",
   "metadata": {},
   "source": [
    "### Install required Python libraries\n",
    "\n",
    "1. Install some dependencies by pip:\n",
    "```Shell \n",
    "pip install jupyterlab pandas numpy matplotlib seaborn nibabel joblib scipy recordclass openpyxl nilearn scikit_learn ortools bioread cca_zoo opnmf surfplot neuromaps yasa\n",
    "```\n",
    "2. Install pyALE  \n",
    "    (1) Download the package from GitHub: https://github.com/LenFrahm/pyALE. After download unzip downloaded zip file.\n",
    "\n",
    "![Jupyter Notebook](Figures/install_pyALE.png)\n",
    "\n",
    "    (2) Launch jupyterlab. To open, switch to your working directory and type the following into your terminal/command prompt:\n",
    "```Shell\n",
    "jupyter-lab\n",
    "```\n",
    "Depending on your OS, Jupyter will either automatically open a tab with Jupyter running, or provide a local host address for you to paste into your favorite browser. In your browser, you should see your working directory appear."
   ]
  },
  {
   "cell_type": "code",
   "execution_count": null,
   "metadata": {},
   "outputs": [],
   "source": []
  }
 ],
 "metadata": {
  "kernelspec": {
   "display_name": "Python 3 (ipykernel)",
   "language": "python",
   "name": "python3"
  },
  "language_info": {
   "codemirror_mode": {
    "name": "ipython",
    "version": 3
   },
   "file_extension": ".py",
   "mimetype": "text/x-python",
   "name": "python",
   "nbconvert_exporter": "python",
   "pygments_lexer": "ipython3",
   "version": "3.8.15"
  }
 },
 "nbformat": 4,
 "nbformat_minor": 4
}
